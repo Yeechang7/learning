{
 "cells": [
  {
   "cell_type": "code",
   "execution_count": 14,
   "id": "3635fa00",
   "metadata": {
    "ExecuteTime": {
     "end_time": "2022-01-01T17:49:27.021080Z",
     "start_time": "2022-01-01T17:49:25.383872Z"
    }
   },
   "outputs": [
    {
     "name": "stdout",
     "output_type": "stream",
     "text": [
      "1\n",
      "2\n",
      "3\n",
      "4\n",
      "5\n"
     ]
    }
   ],
   "source": [
    "# -------------------------\n",
    "# 利用查詢網頁原始碼，會發現東西沒有在html檔案裡，所以可能是包在網頁內的請求 \n",
    "# -------------------------\n",
    "import requests\n",
    "from openpyxl import Workbook # excel套件\n",
    "import json\n",
    "\n",
    "wb = Workbook() # 創建excel檔案\n",
    "ws = wb.active  # 創建工作表\n",
    "title = ['課程名稱','售價','預購價','作者','已售份數'] # excel的首列（標題）\n",
    "ws.append(title) \n",
    "\n",
    "\n",
    "headers = {\n",
    "    'user-agent': 'Mozilla/5.0 (Macintosh; Intel Mac OS X 10_15_7) AppleWebKit/537.36 (KHTML, like Gecko) Chrome/96.0.4664.110 Safari/537.36'\n",
    "}\n",
    "for index in range(1,6):\n",
    "    url = f'https://api.hahow.in/api/group/programming/courses?page={index}'\n",
    "    print(index)\n",
    "    res = requests.get(url,headers=headers)\n",
    "    for data in res.json()['data']:\n",
    "        course = [] # 設定一個空的課程列表\n",
    "        course.append(data['title']) # 課程名稱\n",
    "        course.append(data['price']) # 售價\n",
    "        course.append(data['preOrderedPrice']) # 預售\n",
    "        course.append(data['owner']['name']) # 課程名稱\n",
    "        course.append(data['numSoldTickets']) # 已賣數量\n",
    "        \n",
    "        ws.append(course) # 把課程內的東西寫到excel\n",
    "        \n",
    "wb.save('課程資訊.xlsx') # 存檔\n",
    "        \n",
    "        \n",
    "        \n"
   ]
  }
 ],
 "metadata": {
  "kernelspec": {
   "display_name": "Python 3",
   "language": "python",
   "name": "python3"
  },
  "language_info": {
   "codemirror_mode": {
    "name": "ipython",
    "version": 3
   },
   "file_extension": ".py",
   "mimetype": "text/x-python",
   "name": "python",
   "nbconvert_exporter": "python",
   "pygments_lexer": "ipython3",
   "version": "3.6.13"
  },
  "toc": {
   "base_numbering": 1,
   "nav_menu": {},
   "number_sections": true,
   "sideBar": true,
   "skip_h1_title": false,
   "title_cell": "Table of Contents",
   "title_sidebar": "Contents",
   "toc_cell": false,
   "toc_position": {},
   "toc_section_display": true,
   "toc_window_display": false
  }
 },
 "nbformat": 4,
 "nbformat_minor": 5
}
